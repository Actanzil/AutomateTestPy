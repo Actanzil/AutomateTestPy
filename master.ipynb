{
 "cells": [
  {
   "cell_type": "code",
   "execution_count": 3,
   "metadata": {},
   "outputs": [],
   "source": [
    "from selenium import webdriver\n",
    "\n",
    "driver = webdriver.Chrome()\n",
    "driver.get(\"https://forms.gle/ueXgvWTQRxAb56St7\")"
   ]
  },
  {
   "cell_type": "code",
   "execution_count": 1,
   "metadata": {},
   "outputs": [
    {
     "name": "stdout",
     "output_type": "stream",
     "text": [
      "8\n",
      "12\n"
     ]
    },
    {
     "name": "stderr",
     "output_type": "stream",
     "text": [
      "C:\\Users\\usera\\AppData\\Local\\Temp\\ipykernel_20516\\1843771227.py:4: DeprecationWarning: Call to deprecated function get_sheet_by_name (Use wb[sheetname]).\n",
      "  sheet = workbook.get_sheet_by_name('Sheet2')\n"
     ]
    }
   ],
   "source": [
    "import openpyxl\n",
    "\n",
    "workbook = openpyxl.load_workbook(\"data/electiondata.xlsx\")\n",
    "sheet = workbook.get_sheet_by_name('Sheet2')\n",
    "\n",
    "total_rows = sheet.max_row\n",
    "total_cols = sheet.max_column\n",
    "\n",
    "print(total_rows)\n",
    "print(total_cols)"
   ]
  },
  {
   "cell_type": "code",
   "execution_count": 22,
   "metadata": {},
   "outputs": [
    {
     "name": "stdout",
     "output_type": "stream",
     "text": [
      "<class 'pandas.core.frame.DataFrame'>\n",
      "RangeIndex: 7 entries, 0 to 6\n",
      "Data columns (total 12 columns):\n",
      " #   Column         Non-Null Count  Dtype \n",
      "---  ------         --------------  ----- \n",
      " 0   NRP            7 non-null      int64 \n",
      " 1   Nama           7 non-null      object\n",
      " 2   Jenis_Kelamin  7 non-null      object\n",
      " 3   Usia           7 non-null      int64 \n",
      " 4   Alamat         7 non-null      object\n",
      " 5   Golongan       7 non-null      object\n",
      " 6   Posisi         7 non-null      object\n",
      " 7   Department     7 non-null      object\n",
      " 8   Divisi         7 non-null      object\n",
      " 9   Site           7 non-null      object\n",
      " 10  Pilihan        7 non-null      object\n",
      " 11  Email          7 non-null      object\n",
      "dtypes: int64(2), object(10)\n",
      "memory usage: 804.0+ bytes\n",
      "None\n",
      "      NRP            Nama Jenis_Kelamin  Usia  \\\n",
      "0  314021   Alex Wibisono          Pria    45   \n",
      "1  314022        Prasetyo          Pria    42   \n",
      "2  314023  Ivanka Nirvana        Wanita    38   \n",
      "3  314200       Maya Sari        Wanita    30   \n",
      "4  314202    Adi Banyumas          Pria    32   \n",
      "\n",
      "                                Alamat Golongan             Posisi  \\\n",
      "0       Jalan Sudirman No. 10, Jakarta       6a      Division Head   \n",
      "1    Jalan Asia Afrika No. 30, Bandung       6c    Department Head   \n",
      "2    Jalan Teuku Umar No. 40, Denpasar       6d       Section Head   \n",
      "3    Jalan Asia Afrika No. 1280, Medan       3b              Staff   \n",
      "4  Jalan Diponegoro No. 1, Banjarmasin       3d  Operator HD 785 7   \n",
      "\n",
      "                           Department  \\\n",
      "0  Application Development Department   \n",
      "1     Knowledge Management Department   \n",
      "2       Strategic Planning Department   \n",
      "3      Process Engineering Department   \n",
      "4  Logistics and Inventory Department   \n",
      "\n",
      "                                          Divisi                Site  \\\n",
      "0                   Corporate Information System  JIEP (Head Office)   \n",
      "1     Corporate Culture and Knowledge Management  JIEP (Head Office)   \n",
      "2  Corporate Planning Management and Development  JIEP (Head Office)   \n",
      "3                                    Engineering  JIEP (Head Office)   \n",
      "4                                      Operation                KIDE   \n",
      "\n",
      "        Pilihan                    Email  \n",
      "0   Arif Rahman  andi.wibisono@gmail.com  \n",
      "1  Cindy Amalia  budi.prasetyo@gmail.com  \n",
      "2   Arif Rahman    rina.wijaya@gmail.com  \n",
      "3  Cindy Amalia      maya.sari@gmail.com  \n",
      "4   Arif Rahman   adi.banyumas@gmail.com  \n"
     ]
    }
   ],
   "source": [
    "import pandas as pd\n",
    "\n",
    "df = pd.read_excel('electiondata.xlsx', sheet_name='Sheet2')\n",
    "\n",
    "print(df.info())\n",
    "\n",
    "print(df.head())\n"
   ]
  }
 ],
 "metadata": {
  "kernelspec": {
   "display_name": ".venv",
   "language": "python",
   "name": "python3"
  },
  "language_info": {
   "codemirror_mode": {
    "name": "ipython",
    "version": 3
   },
   "file_extension": ".py",
   "mimetype": "text/x-python",
   "name": "python",
   "nbconvert_exporter": "python",
   "pygments_lexer": "ipython3",
   "version": "3.12.2"
  }
 },
 "nbformat": 4,
 "nbformat_minor": 2
}
